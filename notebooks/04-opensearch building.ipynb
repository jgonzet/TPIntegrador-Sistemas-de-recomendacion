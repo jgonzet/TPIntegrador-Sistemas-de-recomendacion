{
 "cells": [
  {
   "cell_type": "code",
   "execution_count": 1,
   "metadata": {},
   "outputs": [],
   "source": [
    "from opensearchpy import Field, Document, Keyword, Text, Date\n",
    "from opensearchpy import OpenSearch\n",
    "import numpy as np\n",
    "import pandas as pd\n",
    "import datetime\n",
    "import warnings\n",
    "warnings.filterwarnings(\"ignore\")"
   ]
  },
  {
   "cell_type": "code",
   "execution_count": 2,
   "metadata": {},
   "outputs": [
    {
     "data": {
      "text/plain": [
       "(8, 5)"
      ]
     },
     "execution_count": 2,
     "metadata": {},
     "output_type": "execute_result"
    }
   ],
   "source": [
    "df_movies = pd.read_csv('../data/peliculas.csv')\n",
    "df_users = pd.read_csv('../data/personas.csv')\n",
    "\n",
    "movie_embeddings_matrix = np.load('../vectors/movie_embeddings_matrix.npy')\n",
    "user_embeddings_matrix = np.load('../vectors/user_embeddings_matrix.npy')\n",
    "user2Idx = np.load('../vectors/user2Idx.npy', allow_pickle=True).item()\n",
    "movie2Idx = np.load('../vectors/movie2Idx.npy', allow_pickle=True).item()\n",
    "\n",
    "df_users['userIdx'] = df_users['id'].apply(lambda x: user2Idx[x])\n",
    "df_movies['movieIdx'] = df_movies['id'].apply(lambda x: movie2Idx[x])\n",
    "\n",
    "movie_embeddings_matrix.shape[1],user_embeddings_matrix.shape[1]"
   ]
  },
  {
   "cell_type": "code",
   "execution_count": 3,
   "metadata": {},
   "outputs": [
    {
     "data": {
      "text/plain": [
       "(False, False)"
      ]
     },
     "execution_count": 3,
     "metadata": {},
     "output_type": "execute_result"
    }
   ],
   "source": [
    "host = 'localhost'\n",
    "port = 9200\n",
    "auth = ('admin', '@Thinkpad57!')\n",
    "\n",
    "client = OpenSearch(\n",
    "    hosts = [{'host': host, 'port': port}],\n",
    "    http_auth = auth,\n",
    "    use_ssl = True,\n",
    "    verify_certs = False,\n",
    ")\n",
    "\n",
    "client.indices.exists('movie'),client.indices.exists('user')"
   ]
  },
  {
   "cell_type": "code",
   "execution_count": 4,
   "metadata": {},
   "outputs": [],
   "source": [
    "# client.indices.delete('movie'),client.indices.delete('user')"
   ]
  },
  {
   "cell_type": "markdown",
   "metadata": {},
   "source": [
    "## Movies"
   ]
  },
  {
   "cell_type": "code",
   "execution_count": 5,
   "metadata": {},
   "outputs": [],
   "source": [
    "class KNNVector(Field):\n",
    "    name = \"knn_vector\"\n",
    "    def __init__(self, dimension, method, **kwargs):\n",
    "        super(KNNVector, self).__init__(dimension=dimension, method=method, **kwargs)\n",
    "\n",
    "method = {\n",
    "    \"name\": \"hnsw\",\n",
    "    \"space_type\": \"cosinesimil\",\n",
    "    \"engine\": \"nmslib\"\n",
    "}\n",
    "\n",
    "index_name = 'movie'\n",
    "class Movie(Document):\n",
    "    movie_id = Keyword()\n",
    "    name = Text()\n",
    "    created_at = Date()\n",
    "    vector = KNNVector(\n",
    "        movie_embeddings_matrix.shape[1],\n",
    "        method\n",
    "    )\n",
    "    class Index:\n",
    "        name = index_name\n",
    "        settings = {\n",
    "                'index': {\n",
    "                'knn': True\n",
    "            }\n",
    "        }\n",
    "    def save(self, ** kwargs):\n",
    "        self.meta.id = self.movie_id\n",
    "        return super(Movie, self).save(** kwargs)\n",
    "    \n",
    "Movie.init(using=client)\n",
    "# client.indices.exists('movie')\n",
    "# client.indices.get('movie')"
   ]
  },
  {
   "cell_type": "code",
   "execution_count": 6,
   "metadata": {},
   "outputs": [
    {
     "data": {
      "text/plain": [
       "1682"
      ]
     },
     "execution_count": 6,
     "metadata": {},
     "output_type": "execute_result"
    }
   ],
   "source": [
    "# Escribo la DB\n",
    "for i, row in df_movies.iterrows():\n",
    "    mv = Movie(\n",
    "        movie_id = row.id,\n",
    "        name = row['Name'],\n",
    "        vector = list(movie_embeddings_matrix[row.movieIdx]),\n",
    "        created_at = datetime.datetime.now()\n",
    "    )\n",
    "    mv.save(using=client)\n",
    "\n",
    "Movie.search(using=client).count()"
   ]
  },
  {
   "cell_type": "markdown",
   "metadata": {},
   "source": [
    "## Users"
   ]
  },
  {
   "cell_type": "code",
   "execution_count": 7,
   "metadata": {},
   "outputs": [],
   "source": [
    "# Armo Users\n",
    "# class KNNVector(Field):\n",
    "#     name = \"knn_vector\"\n",
    "#     def __init__(self, dimension, method, **kwargs):\n",
    "#         super(KNNVector, self).__init__(dimension=dimension, method=method, **kwargs)\n",
    "# method = {\n",
    "#     \"name\": \"hnsw\",\n",
    "#     \"space_type\": \"cosinesimil\",\n",
    "#     \"engine\": \"nmslib\"\n",
    "# }\n",
    "\n",
    "index_name = 'user'\n",
    "class User(Document):\n",
    "    user_id = Keyword()\n",
    "    name = Text()\n",
    "    created_at = Date()\n",
    "    vector = KNNVector(\n",
    "        user_embeddings_matrix.shape[1],\n",
    "        method\n",
    "    )\n",
    "    class Index:\n",
    "        name = index_name\n",
    "        settings = {\n",
    "                'index': {\n",
    "                'knn': True\n",
    "            }\n",
    "        }\n",
    "    def save(self, ** kwargs):\n",
    "        self.meta.id = self.user_id\n",
    "        return super(User, self).save(** kwargs)\n",
    "    \n",
    "# User.init(using=client)\n",
    "# client.indices.exists('user')\n",
    "# client.indices.get('user')"
   ]
  },
  {
   "cell_type": "code",
   "execution_count": 8,
   "metadata": {},
   "outputs": [],
   "source": [
    "# User.init(using=client)"
   ]
  },
  {
   "cell_type": "code",
   "execution_count": 9,
   "metadata": {},
   "outputs": [
    {
     "data": {
      "text/html": [
       "<div>\n",
       "<style scoped>\n",
       "    .dataframe tbody tr th:only-of-type {\n",
       "        vertical-align: middle;\n",
       "    }\n",
       "\n",
       "    .dataframe tbody tr th {\n",
       "        vertical-align: top;\n",
       "    }\n",
       "\n",
       "    .dataframe thead th {\n",
       "        text-align: right;\n",
       "    }\n",
       "</style>\n",
       "<table border=\"1\" class=\"dataframe\">\n",
       "  <thead>\n",
       "    <tr style=\"text-align: right;\">\n",
       "      <th></th>\n",
       "      <th>id</th>\n",
       "      <th>Full Name</th>\n",
       "      <th>year of birth</th>\n",
       "      <th>Gender</th>\n",
       "      <th>Zip Code</th>\n",
       "      <th>userIdx</th>\n",
       "    </tr>\n",
       "  </thead>\n",
       "  <tbody>\n",
       "    <tr>\n",
       "      <th>0</th>\n",
       "      <td>1</td>\n",
       "      <td>Robert Stanley</td>\n",
       "      <td>1974</td>\n",
       "      <td>M</td>\n",
       "      <td>85711</td>\n",
       "      <td>26</td>\n",
       "    </tr>\n",
       "    <tr>\n",
       "      <th>1</th>\n",
       "      <td>2</td>\n",
       "      <td>Heather Bossey</td>\n",
       "      <td>1945</td>\n",
       "      <td>F</td>\n",
       "      <td>94043</td>\n",
       "      <td>723</td>\n",
       "    </tr>\n",
       "    <tr>\n",
       "      <th>2</th>\n",
       "      <td>3</td>\n",
       "      <td>Don Davis</td>\n",
       "      <td>1975</td>\n",
       "      <td>M</td>\n",
       "      <td>32067</td>\n",
       "      <td>751</td>\n",
       "    </tr>\n",
       "    <tr>\n",
       "      <th>3</th>\n",
       "      <td>4</td>\n",
       "      <td>Daniel Mccauley</td>\n",
       "      <td>1974</td>\n",
       "      <td>M</td>\n",
       "      <td>43537</td>\n",
       "      <td>922</td>\n",
       "    </tr>\n",
       "    <tr>\n",
       "      <th>4</th>\n",
       "      <td>5</td>\n",
       "      <td>Janice Mccullough</td>\n",
       "      <td>1965</td>\n",
       "      <td>F</td>\n",
       "      <td>15213</td>\n",
       "      <td>75</td>\n",
       "    </tr>\n",
       "  </tbody>\n",
       "</table>\n",
       "</div>"
      ],
      "text/plain": [
       "   id          Full Name  year of birth Gender Zip Code  userIdx\n",
       "0   1     Robert Stanley           1974      M    85711       26\n",
       "1   2     Heather Bossey           1945      F    94043      723\n",
       "2   3          Don Davis           1975      M    32067      751\n",
       "3   4    Daniel Mccauley           1974      M    43537      922\n",
       "4   5  Janice Mccullough           1965      F    15213       75"
      ]
     },
     "execution_count": 9,
     "metadata": {},
     "output_type": "execute_result"
    }
   ],
   "source": [
    "df_users.head()"
   ]
  },
  {
   "cell_type": "code",
   "execution_count": 10,
   "metadata": {},
   "outputs": [
    {
     "data": {
      "text/plain": [
       "943"
      ]
     },
     "execution_count": 10,
     "metadata": {},
     "output_type": "execute_result"
    }
   ],
   "source": [
    "# Escribo la DB\n",
    "for i, row in df_users.iterrows():\n",
    "    mv = User(\n",
    "        user_id = row.id,\n",
    "        name = row['Full Name'],\n",
    "        vector = list(user_embeddings_matrix[row.userIdx]),\n",
    "        created_at = datetime.datetime.now()\n",
    "    )\n",
    "    mv.save(using=client)\n",
    "\n",
    "User.search(using=client).count()"
   ]
  },
  {
   "cell_type": "code",
   "execution_count": 11,
   "metadata": {},
   "outputs": [
    {
     "data": {
      "text/plain": [
       "(True, True)"
      ]
     },
     "execution_count": 11,
     "metadata": {},
     "output_type": "execute_result"
    }
   ],
   "source": [
    "client.indices.exists('movie'),client.indices.exists('user')\n"
   ]
  },
  {
   "cell_type": "markdown",
   "metadata": {},
   "source": [
    "## Queries de prueba"
   ]
  },
  {
   "cell_type": "code",
   "execution_count": 12,
   "metadata": {},
   "outputs": [
    {
     "data": {
      "text/plain": [
       "array([ 0.01373185, -0.01663706,  0.04965537, -0.02427759, -0.0730793 ,\n",
       "       -0.01518517,  0.03065911, -0.04689679], dtype=float32)"
      ]
     },
     "execution_count": 12,
     "metadata": {},
     "output_type": "execute_result"
    }
   ],
   "source": [
    "movie_idx_to_search = 1447\n",
    "\n",
    "#df_movies[df_movies['id'] == movie_idx_to_search]\n",
    "\n",
    "movie_embeddings_matrix[movie_idx_to_search]"
   ]
  },
  {
   "cell_type": "code",
   "execution_count": 13,
   "metadata": {},
   "outputs": [],
   "source": [
    "query = {\n",
    "    \"size\": 5,\n",
    "    \"query\": {\n",
    "        \"knn\": {\n",
    "        \"vector\": {\n",
    "            \"vector\": movie_embeddings_matrix[movie_idx_to_search],\n",
    "            \"k\" : 5\n",
    "        }\n",
    "        }\n",
    "    }\n",
    "}\n",
    "\n",
    "response = client.search(index='movie', body=query)"
   ]
  },
  {
   "cell_type": "code",
   "execution_count": 14,
   "metadata": {},
   "outputs": [
    {
     "name": "stdout",
     "output_type": "stream",
     "text": [
      "{'_index': 'movie', '_id': '711', '_score': 'Infinity', '_source': {'movie_id': 711, 'name': 'Substance of Fire, The (1996)', 'vector': [1.6679603622595922e-34, 2.6088745297997226e-33, 4.647216998956094e-33, -2.69640183916195e-33, -5.72037575033167e-33, -1.4385661294454768e-33, -6.313771176098515e-34, 5.0784294691399876e-33], 'created_at': '2024-12-31T17:05:56.389613'}}\n",
      "{'_index': 'movie', '_id': '1122', '_score': 'Infinity', '_source': {'movie_id': 1122, 'name': 'They Made Me a Criminal (1939)', 'vector': [2.3758254279095114e-33, -2.75788607118171e-33, 2.1536951991705008e-33, 2.4461765607543175e-33, 4.550375366231538e-33, 2.3621167760560234e-33, 1.0964034174791177e-33, -5.043016967137497e-33], 'created_at': '2024-12-31T17:06:18.622613'}}\n",
      "{'_index': 'movie', '_id': '1310', '_score': 'Infinity', '_source': {'movie_id': 1310, 'name': 'Walk in the Sun, A (1945)', 'vector': [-5.457583702629778e-33, -5.729541667532207e-33, 3.822707628874079e-35, -4.6363778390155584e-33, -4.7513665331229177e-35, -2.0297860457767358e-32, -3.1127009594537554e-33, -4.8468614901318126e-33], 'created_at': '2024-12-31T17:06:28.293503'}}\n",
      "{'_index': 'movie', '_id': '1390', '_score': 'Infinity', '_source': {'movie_id': 1390, 'name': 'Innocent Sleep, The (1995)', 'vector': [5.142411626655245e-33, 5.0681578525657086e-33, 4.406138535965797e-33, 1.335707618683642e-33, -5.680708693463172e-34, 3.7690992090048286e-33, -5.5429760203773245e-33, -5.2795352467305723e-33], 'created_at': '2024-12-31T17:06:32.399840'}}\n",
      "{'_index': 'movie', '_id': '1414', '_score': 'Infinity', '_source': {'movie_id': 1414, 'name': 'Coldblooded (1995)', 'vector': [4.649725210027161e-33, 4.037896563471484e-34, 4.631741248485534e-33, 2.4212255911321606e-33, -2.1329425810907026e-33, 2.056936034721495e-33, -1.009438141353377e-33, -5.743449235070373e-33], 'created_at': '2024-12-31T17:06:33.683310'}}\n"
     ]
    }
   ],
   "source": [
    "for h in response['hits']['hits']:\n",
    "    print(h)"
   ]
  },
  {
   "cell_type": "code",
   "execution_count": null,
   "metadata": {},
   "outputs": [],
   "source": []
  }
 ],
 "metadata": {
  "kernelspec": {
   "display_name": "TP2_ENV",
   "language": "python",
   "name": "python3"
  },
  "language_info": {
   "codemirror_mode": {
    "name": "ipython",
    "version": 3
   },
   "file_extension": ".py",
   "mimetype": "text/x-python",
   "name": "python",
   "nbconvert_exporter": "python",
   "pygments_lexer": "ipython3",
   "version": "3.11.9"
  }
 },
 "nbformat": 4,
 "nbformat_minor": 2
}
