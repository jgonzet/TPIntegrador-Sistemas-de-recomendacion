{
 "cells": [
  {
   "cell_type": "code",
   "execution_count": 1,
   "metadata": {},
   "outputs": [],
   "source": [
    "from opensearchpy import Field, Document, Keyword, Text, Date\n",
    "from opensearchpy import OpenSearch\n",
    "import numpy as np\n",
    "import pandas as pd\n",
    "\n",
    "import warnings\n",
    "warnings.filterwarnings(\"ignore\")"
   ]
  },
  {
   "cell_type": "code",
   "execution_count": 2,
   "metadata": {},
   "outputs": [],
   "source": [
    "df_movies = pd.read_csv('../data/peliculas.csv')\n",
    "df_users = pd.read_csv('../data/usuarios.csv')\n",
    "\n",
    "movie_embeddings_matrix = np.load('../vectors/movie_embeddings_matrix.npy')\n",
    "user_embeddings_matrix = np.load('../vectors/user_embeddings_matrix.npy')\n",
    "\n",
    "user2Idx = np.load('../vectors/user2Idx.npy', allow_pickle=True).item()\n",
    "movie2Idx = np.load('../vectors/movie2Idx.npy', allow_pickle=True).item()\n",
    "\n",
    "df_users['userIdx'] = df_users['id'].apply(lambda x: user2Idx[x])\n",
    "df_movies['movieIdx'] = df_movies['id'].apply(lambda x: movie2Idx[x])"
   ]
  },
  {
   "cell_type": "code",
   "execution_count": 4,
   "metadata": {},
   "outputs": [],
   "source": [
    "host = 'localhost'\n",
    "port = 9200\n",
    "auth = ('admin', '@Thinkpad57!')\n",
    "\n",
    "client = OpenSearch(\n",
    "    hosts = [{'host': host, 'port': port}],\n",
    "    http_auth = auth,\n",
    "    use_ssl = True,\n",
    "    verify_certs = False,\n",
    ")"
   ]
  },
  {
   "cell_type": "code",
   "execution_count": 5,
   "metadata": {},
   "outputs": [],
   "source": [
    "class KNNVector(Field):\n",
    "    name = \"knn_vector\"\n",
    "    def __init__(self, dimension, method, **kwargs):\n",
    "        super(KNNVector, self).__init__(dimension=dimension, method=method, **kwargs)\n",
    "\n",
    "method = {\n",
    "    \"name\": \"hnsw\",\n",
    "    \"space_type\": \"cosinesimil\",\n",
    "    \"engine\": \"nmslib\"\n",
    "}\n",
    "\n",
    "index_name = 'movie'\n",
    "class Movie(Document):\n",
    "    movie_id = Keyword()\n",
    "    name = Text()\n",
    "    created_at = Date()\n",
    "    vector = KNNVector(\n",
    "        movie_embeddings_matrix.shape[1],\n",
    "        method\n",
    "    )\n",
    "    class Index:\n",
    "        name = index_name\n",
    "        settings = {\n",
    "                'index': {\n",
    "                'knn': True\n",
    "            }\n",
    "        }\n",
    "    def save(self, ** kwargs):\n",
    "        self.meta.id = self.movie_id\n",
    "        return super(Movie, self).save(** kwargs)"
   ]
  },
  {
   "cell_type": "code",
   "execution_count": 10,
   "metadata": {},
   "outputs": [
    {
     "data": {
      "text/plain": [
       "array([ 0.01373185, -0.01663706,  0.04965537, -0.02427759, -0.0730793 ,\n",
       "       -0.01518517,  0.03065911, -0.04689679], dtype=float32)"
      ]
     },
     "execution_count": 10,
     "metadata": {},
     "output_type": "execute_result"
    }
   ],
   "source": [
    "movie_idx_to_search = 1447\n",
    "\n",
    "#df_movies[df_movies['id'] == movie_idx_to_search]\n",
    "\n",
    "movie_embeddings_matrix[movie_idx_to_search]"
   ]
  },
  {
   "cell_type": "code",
   "execution_count": 13,
   "metadata": {},
   "outputs": [],
   "source": [
    "query = {\n",
    "    \"size\": 5,\n",
    "    \"query\": {\n",
    "        \"knn\": {\n",
    "        \"vector\": {\n",
    "            \"vector\": movie_embeddings_matrix[movie_idx_to_search],\n",
    "            \"k\" : 5\n",
    "        }\n",
    "        }\n",
    "    }\n",
    "}\n",
    "\n",
    "response = client.search(index='movie', body=query)"
   ]
  },
  {
   "cell_type": "code",
   "execution_count": 14,
   "metadata": {},
   "outputs": [
    {
     "name": "stdout",
     "output_type": "stream",
     "text": [
      "{'_index': 'movie', '_id': '711', '_score': 'Infinity', '_source': {'movie_id': 711, 'name': 'Substance of Fire, The (1996)', 'vector': [1.6679603622595922e-34, 2.6088745297997226e-33, 4.647216998956094e-33, -2.69640183916195e-33, -5.72037575033167e-33, -1.4385661294454768e-33, -6.313771176098515e-34, 5.0784294691399876e-33], 'created_at': '2024-12-31T16:45:44.034337'}}\n",
      "{'_index': 'movie', '_id': '1122', '_score': 'Infinity', '_source': {'movie_id': 1122, 'name': 'They Made Me a Criminal (1939)', 'vector': [2.3758254279095114e-33, -2.75788607118171e-33, 2.1536951991705008e-33, 2.4461765607543175e-33, 4.550375366231538e-33, 2.3621167760560234e-33, 1.0964034174791177e-33, -5.043016967137497e-33], 'created_at': '2024-12-31T16:46:04.933929'}}\n",
      "{'_index': 'movie', '_id': '1310', '_score': 'Infinity', '_source': {'movie_id': 1310, 'name': 'Walk in the Sun, A (1945)', 'vector': [-5.457583702629778e-33, -5.729541667532207e-33, 3.822707628874079e-35, -4.6363778390155584e-33, -4.7513665331229177e-35, -2.0297860457767358e-32, -3.1127009594537554e-33, -4.8468614901318126e-33], 'created_at': '2024-12-31T16:46:14.557738'}}\n",
      "{'_index': 'movie', '_id': '1390', '_score': 'Infinity', '_source': {'movie_id': 1390, 'name': 'Innocent Sleep, The (1995)', 'vector': [5.142411626655245e-33, 5.0681578525657086e-33, 4.406138535965797e-33, 1.335707618683642e-33, -5.680708693463172e-34, 3.7690992090048286e-33, -5.5429760203773245e-33, -5.2795352467305723e-33], 'created_at': '2024-12-31T16:46:18.650652'}}\n",
      "{'_index': 'movie', '_id': '1414', '_score': 'Infinity', '_source': {'movie_id': 1414, 'name': 'Coldblooded (1995)', 'vector': [4.649725210027161e-33, 4.037896563471484e-34, 4.631741248485534e-33, 2.4212255911321606e-33, -2.1329425810907026e-33, 2.056936034721495e-33, -1.009438141353377e-33, -5.743449235070373e-33], 'created_at': '2024-12-31T16:46:19.930797'}}\n"
     ]
    }
   ],
   "source": [
    "for h in response['hits']['hits']:\n",
    "    print(h)"
   ]
  },
  {
   "cell_type": "code",
   "execution_count": null,
   "metadata": {},
   "outputs": [],
   "source": []
  }
 ],
 "metadata": {
  "kernelspec": {
   "display_name": "TP2_ENV",
   "language": "python",
   "name": "python3"
  },
  "language_info": {
   "codemirror_mode": {
    "name": "ipython",
    "version": 3
   },
   "file_extension": ".py",
   "mimetype": "text/x-python",
   "name": "python",
   "nbconvert_exporter": "python",
   "pygments_lexer": "ipython3",
   "version": "3.11.9"
  }
 },
 "nbformat": 4,
 "nbformat_minor": 2
}
